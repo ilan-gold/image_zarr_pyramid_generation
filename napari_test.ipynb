{
 "cells": [
  {
   "cell_type": "code",
   "execution_count": 1,
   "metadata": {},
   "outputs": [],
   "source": [
    "import numpy as np\n",
    "from apeer_ometiff_library import io"
   ]
  },
  {
   "cell_type": "code",
   "execution_count": 2,
   "metadata": {},
   "outputs": [],
   "source": [
    "filename = \"/Users/ilan_gold/Downloads/linnarsson.images.ome.tif\"\n",
    "(array, omexml) = io.read_ometiff(filename)\n",
    "array = array[0][0]"
   ]
  },
  {
   "cell_type": "code",
   "execution_count": 4,
   "metadata": {},
   "outputs": [],
   "source": [
    "array = np.transpose(array[0][0], (1, 2, 0))\n",
    "array = np.concatenate((array, np.zeros((array.shape[0], array.shape[1], 1), dtype=array.dtype)), axis=2)"
   ]
  },
  {
   "cell_type": "code",
   "execution_count": 5,
   "metadata": {},
   "outputs": [],
   "source": [
    "from skimage.transform import pyramid_gaussian\n",
    "pyramid = tuple(pyramid_gaussian(array, downscale=2, multichannel=True))\n",
    "pyramid = np.asarray(list(pyramid))\n",
    "pyramid = np.asarray([(255 * p).astype('uint8') for p in pyramid])"
   ]
  },
  {
   "cell_type": "code",
   "execution_count": null,
   "metadata": {},
   "outputs": [],
   "source": [
    "import zarr\n",
    "import random\n",
    "import math\n",
    "from numcodecs import Zlib\n",
    "i = 0\n",
    "tile_size = 512\n",
    "for p in pyramid:\n",
    "    padded = np.pad(p.transpose(2, 0, 1), pad_width = [(0, 0), (0, math.ceil(p.shape[0] / tile_size) * tile_size - p.shape[0]), (0, math.ceil(p.shape[1] / tile_size) * tile_size - p.shape[1])], constant_values=0).transpose(1,2,0)\n",
    "    padded = padded.reshape(padded.shape[0]//tile_size, tile_size, padded.shape[1]//tile_size, tile_size, 3).swapaxes(1, 2)\n",
    "    padded_reshape_flatten = padded.ravel()\n",
    "    padded_reshape_shape = padded.shape\n",
    "    del padded\n",
    "    z = zarr.open(f\"img_pyramid/pyramid_{i}.zarr\", shape=list(padded_reshape_flatten.shape), chunks=(tile_size*tile_size*3,), compressor=Zlib(level=1), dtype='<u1')\n",
    "    z.attrs['height'] = padded_reshape_shape[0]\n",
    "    z.attrs['width'] = padded_reshape_shape[1]\n",
    "    print(z)\n",
    "    z[:,] = padded_reshape_flatten\n",
    "    i = i + 1"
   ]
  }
 ],
 "metadata": {
  "kernelspec": {
   "display_name": ".venv",
   "language": "python",
   "name": ".venv"
  },
  "language_info": {
   "codemirror_mode": {
    "name": "ipython",
    "version": 3
   },
   "file_extension": ".py",
   "mimetype": "text/x-python",
   "name": "python",
   "nbconvert_exporter": "python",
   "pygments_lexer": "ipython3",
   "version": "3.6.5"
  }
 },
 "nbformat": 4,
 "nbformat_minor": 2
}
